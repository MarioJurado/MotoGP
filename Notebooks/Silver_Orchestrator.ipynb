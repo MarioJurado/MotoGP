{
  "nbformat": 4,
  "nbformat_minor": 2,
  "cells": [
    {
      "cell_type": "code",
      "execution_count": 22,
      "outputs": [],
      "metadata": {
        "jupyter": {
          "source_hidden": false,
          "outputs_hidden": false
        },
        "nteract": {
          "transient": {
            "deleting": false
          }
        },
        "tags": [
          "parameters"
        ]
      },
      "source": [
        "years=\"[2001,2002,2003,2004,2005]\""
      ]
    },
    {
      "cell_type": "code",
      "execution_count": 23,
      "outputs": [],
      "metadata": {
        "jupyter": {
          "source_hidden": false,
          "outputs_hidden": false
        },
        "nteract": {
          "transient": {
            "deleting": false
          }
        }
      },
      "source": [
        "from pyspark.sql.functions import current_timestamp, month, col, when\n",
        "from delta.tables import *\n",
        "import ast"
      ]
    },
    {
      "cell_type": "code",
      "execution_count": 24,
      "outputs": [],
      "metadata": {
        "jupyter": {
          "source_hidden": false,
          "outputs_hidden": false
        },
        "nteract": {
          "transient": {
            "deleting": false
          }
        }
      },
      "source": [
        "year_list=ast.literal_eval(years)"
      ]
    },
    {
      "cell_type": "code",
      "execution_count": 25,
      "outputs": [],
      "metadata": {
        "jupyter": {
          "source_hidden": false,
          "outputs_hidden": false
        },
        "nteract": {
          "transient": {
            "deleting": false
          }
        }
      },
      "source": [
        "# Paths Bronze Folders\n",
        "pathWSRFolder=\"abfss://bronze@datalakemotogp.dfs.core.windows.net/world-standing-riders/\"\n",
        "pathEventsFolder=\"abfss://bronze@datalakemotogp.dfs.core.windows.net/events/\"\n",
        "pathFRFolder=\"abfss://bronze@datalakemotogp.dfs.core.windows.net/full-results/\"\n",
        "\n",
        "# Path Silver\n",
        "pathWSRSilver=\"abfss://silver@datalakemotogp.dfs.core.windows.net/api-racing-mike/motogp/world-standing-riders/\"\n",
        "pathEventsSilver=\"abfss://silver@datalakemotogp.dfs.core.windows.net/api-racing-mike/motogp/events/\"\n",
        "pathFRSilver=\"abfss://silver@datalakemotogp.dfs.core.windows.net/api-racing-mike/motogp/full-results/\""
      ]
    },
    {
      "cell_type": "markdown",
      "metadata": {
        "nteract": {
          "transient": {
            "deleting": false
          }
        }
      },
      "source": [
        "## ***Common functions***"
      ]
    },
    {
      "cell_type": "code",
      "execution_count": 26,
      "outputs": [],
      "metadata": {
        "jupyter": {
          "source_hidden": false,
          "outputs_hidden": false
        },
        "nteract": {
          "transient": {
            "deleting": false
          }
        }
      },
      "source": [
        "def replace_undefined_with_null(df):\n",
        "    for column in df.columns:\n",
        "        df = df.withColumn(column, when(col(column) == 'undefined', None).otherwise(col(column)))\n",
        "    return df"
      ]
    },
    {
      "cell_type": "code",
      "execution_count": 27,
      "outputs": [],
      "metadata": {
        "jupyter": {
          "source_hidden": false,
          "outputs_hidden": false
        },
        "nteract": {
          "transient": {
            "deleting": false
          }
        }
      },
      "source": [
        "spark.conf.set(\"spark.microsoft.delta.optimizeWrite.enabled\", \"true\")"
      ]
    },
    {
      "cell_type": "markdown",
      "metadata": {
        "nteract": {
          "transient": {
            "deleting": false
          }
        }
      },
      "source": [
        "# ***World-Standing-Riders***"
      ]
    },
    {
      "cell_type": "code",
      "execution_count": 28,
      "outputs": [],
      "metadata": {
        "jupyter": {
          "source_hidden": false,
          "outputs_hidden": false
        },
        "nteract": {
          "transient": {
            "deleting": false
          }
        },
        "collapsed": false
      },
      "source": [
        "def process_wsr_silver(year):\n",
        "    df = spark.read.json(f\"{pathWSRFolder}{year}/*.json\")\n",
        "    dfWSR=df.select(\"classification_id\",\"points\",\"position\",\"rider_full_name\",\"rider_country_iso\",\"constructor_name\",\"team_color\",\"text_color\",\"year\")\n",
        "    dfWSR=replace_undefined_with_null(dfWSR)\n",
        "    dfWSR=dfWSR.withColumn(\"date_load\", current_timestamp())\n",
        "    dfWSR.dropDuplicates([\"classification_id\"])\n",
        "    try:\n",
        "        wsr_silver=DeltaTable.forPath(spark,pathWSRSilver)\n",
        "        wsr_silver.alias(\"existing\").merge(dfWSR.alias(\"new\"),\\\n",
        "            \"existing.classification_id = new.classification_id\")\\\n",
        "            .whenMatchedUpdateAll().whenNotMatchedInsertAll().execute()\n",
        "    except Exception as e:\n",
        "        if 'not a Delta table' in str(e):\n",
        "            dfWSR.write.format(\"delta\").partitionBy(\"year\").save(pathWSRSilver)\n",
        "        else:\n",
        "            raise e"
      ]
    },
    {
      "cell_type": "markdown",
      "metadata": {
        "nteract": {
          "transient": {
            "deleting": false
          }
        }
      },
      "source": [
        "# ***Events***"
      ]
    },
    {
      "cell_type": "code",
      "execution_count": 29,
      "outputs": [],
      "metadata": {
        "jupyter": {
          "source_hidden": false,
          "outputs_hidden": false
        },
        "nteract": {
          "transient": {
            "deleting": false
          }
        },
        "collapsed": false
      },
      "source": [
        "def process_events_silver(year):\n",
        "    df=spark.read.json(f\"{pathEventsFolder}{year}/*.json\")\n",
        "    dfEvents=df.select(\"id\",\"name\",\"short_name\",\"sponsored_name\",\"date_start\",\"date_end\",\"country_iso\",\"country_name\",\"year\")\n",
        "    dfEvents=replace_undefined_with_null(dfEvents)\n",
        "    dfEvents=dfEvents.withColumn(\"date_load\", current_timestamp()).withColumnRenamed(\"name\",\"event_name\").withColumnRenamed(\"id\",\"event_id\")\n",
        "    dfEvents=dfEvents.dropDuplicates([\"event_id\"])\n",
        "    try:\n",
        "        events_silver=DeltaTable.forPath(spark,pathEventsSilver)\n",
        "        events_silver.alias(\"existing\").merge(dfEvents.alias(\"new\"),\\\n",
        "            \"existing.event_id=new.event_id\")\\\n",
        "            .whenMatchedUpdateAll().whenNotMatchedInsertAll().execute()\n",
        "    except Exception as e:\n",
        "        if 'not a Delta table' in str(e):\n",
        "            dfEvents.write.format(\"delta\").partitionBy(\"year\").save(pathEventsSilver)\n",
        "        else:\n",
        "            raise e"
      ]
    },
    {
      "cell_type": "markdown",
      "metadata": {
        "nteract": {
          "transient": {
            "deleting": false
          }
        }
      },
      "source": [
        "# ***Full-Results***"
      ]
    },
    {
      "cell_type": "code",
      "execution_count": 30,
      "outputs": [],
      "metadata": {
        "jupyter": {
          "source_hidden": false,
          "outputs_hidden": false
        },
        "nteract": {
          "transient": {
            "deleting": false
          }
        }
      },
      "source": [
        "def process_full_results_silver(year):\n",
        "    df=spark.read.json(f\"{pathFRFolder}{year}/*.json\")\n",
        "    dfEvents=spark.read.json(f\"{pathEventsFolder}{year}/*.json\")\n",
        "    dfEvents=dfEvents.withColumnRenamed(\"id\",\"event_id\").select(\"event_id\",\"date_end\")\n",
        "    dfFR=df.select(\"event_id\",\"result_id\",\"position\",\"points\",\"time\",\"gap_first\",\"gap_lap\",\"total_laps\",\"average_speed\",\\\n",
        "        \"rider_id\",\"rider_full_name\",\"rider_country_iso\",\"rider_country_name\",\"rider_number\",\"years_old\",\"birth_date\",\"birth_city\",\"rider_type\",\\\n",
        "        \"team_id\",\"team_name\",\"team_color\",\"sponsored_team\",\"constructor_name\",\\\n",
        "        \"circuit_id\",\"circuit_name\",\"circuit_nation\",\"circuit_place\",\"circuit_country_iso\",\"circuit_country_name\",\\\n",
        "        \"ground_condition\",\"humidity_condition\",\"weather_condition\",\"track_condition\",\\\n",
        "        \"profile_picture_url\",\"portrait_picture_url\",\"number_picture_url\",\"picture_url\",\"bike_picture_url\",\"country_flag_url\",\"helmet_picture_url\",\"year\")        \n",
        "    dfFR = replace_undefined_with_null(dfFR)\n",
        "    dfEvents = replace_undefined_with_null(dfEvents)\n",
        "    dfFR=dfFR.join(dfEvents,on=\"event_id\",how=\"left\")\n",
        "    dfFR=dfFR.withColumn(\"month\",month(\"date_end\")).withColumnRenamed(\"date_end\",\"date\").withColumn(\"date_load\", current_timestamp())\n",
        "    dfFR=dfFR.dropDuplicates([\"event_id\",\"result_id\",\"rider_id\",\"team_id\",\"circuit_id\"])\n",
        "    try:\n",
        "        fr_silver=DeltaTable.forPath(spark,pathFRSilver)\n",
        "        fr_silver.alias(\"existing\").merge(dfFR.alias(\"new\"),\\\n",
        "            \"existing.event_id = new.event_id AND existing.result_id = new.result_id AND existing.rider_id = new.rider_id AND existing.team_id = new.team_id AND existing.circuit_id = new.circuit_id\")\\\n",
        "            .whenMatchedUpdateAll().whenNotMatchedInsertAll().execute()\n",
        "    except Exception as e:\n",
        "        if 'not a Delta table' in str(e):\n",
        "            dfFR.write.format(\"delta\").partitionBy(\"year\",\"month\").save(pathFRSilver)\n",
        "        else:\n",
        "            raise e"
      ]
    },
    {
      "cell_type": "markdown",
      "metadata": {
        "nteract": {
          "transient": {
            "deleting": false
          }
        }
      },
      "source": [
        "# ***Bucle final para transformar las 3 entidades***\n",
        ""
      ]
    },
    {
      "cell_type": "code",
      "execution_count": 31,
      "outputs": [],
      "metadata": {
        "jupyter": {
          "source_hidden": false,
          "outputs_hidden": false
        },
        "nteract": {
          "transient": {
            "deleting": false
          }
        },
        "collapsed": false
      },
      "source": [
        "for year in year_list:\n",
        "    process_wsr_silver(year)\n",
        "    process_events_silver(year)\n",
        "    process_full_results_silver(year)\n",
        "        "
      ]
    }
  ],
  "metadata": {
    "description": null,
    "save_output": true,
    "language_info": {
      "name": "python"
    }
  }
}